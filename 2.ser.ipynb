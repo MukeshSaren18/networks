{
 "cells": [
  {
   "cell_type": "code",
   "execution_count": 2,
   "metadata": {},
   "outputs": [],
   "source": [
    "import socket"
   ]
  },
  {
   "cell_type": "code",
   "execution_count": 3,
   "metadata": {},
   "outputs": [
    {
     "name": "stdout",
     "output_type": "stream",
     "text": [
      "connection from: ('127.0.0.1', 51399)\n",
      "from connected user:  hii\n"
     ]
    },
    {
     "name": "stdin",
     "output_type": "stream",
     "text": [
      "-> hello\n"
     ]
    }
   ],
   "source": [
    "def server():\n",
    "    host=socket.gethostname()\n",
    "    port=5000\n",
    "    ss=socket.socket()\n",
    "    ss.bind((host,port))\n",
    "    ss.listen(5)\n",
    "    conn,addr=ss.accept()\n",
    "    print('connection from:',addr)\n",
    "    while True:\n",
    "        data=conn.recv(1024).decode()\n",
    "        if not data:break\n",
    "        print('from connected user: ',data)\n",
    "        data=input('->')\n",
    "        conn.send(data.encode())\n",
    "    conn.close()\n",
    "\n",
    "server()"
   ]
  },
  {
   "cell_type": "code",
   "execution_count": null,
   "metadata": {},
   "outputs": [],
   "source": []
  }
 ],
 "metadata": {
  "kernelspec": {
   "display_name": "Python 3",
   "language": "python",
   "name": "python3"
  },
  "language_info": {
   "codemirror_mode": {
    "name": "ipython",
    "version": 3
   },
   "file_extension": ".py",
   "mimetype": "text/x-python",
   "name": "python",
   "nbconvert_exporter": "python",
   "pygments_lexer": "ipython3",
   "version": "3.8.5"
  }
 },
 "nbformat": 4,
 "nbformat_minor": 4
}
